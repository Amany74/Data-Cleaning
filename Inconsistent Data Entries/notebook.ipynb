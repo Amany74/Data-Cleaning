{
 "cells": [
  {
   "cell_type": "markdown",
   "metadata": {},
   "source": [
    "## Inconsistent Data Entries\n",
    "\n",
    "\n",
    "Dataset: The dataset contains detailed information of 475 suicide bombing attacks in Pakistan that killed an estimated 6,982 and injured 17,624 people."
   ]
  },
  {
   "cell_type": "code",
   "execution_count": 1,
   "metadata": {},
   "outputs": [
    {
     "name": "stderr",
     "output_type": "stream",
     "text": [
      "C:\\Users\\Mega\\AppData\\Local\\Programs\\Python\\Python39\\lib\\site-packages\\fuzzywuzzy\\fuzz.py:11: UserWarning: Using slow pure-python SequenceMatcher. Install python-Levenshtein to remove this warning\n",
      "  warnings.warn('Using slow pure-python SequenceMatcher. Install python-Levenshtein to remove this warning')\n"
     ]
    }
   ],
   "source": [
    "import pandas as pd\n",
    "import numpy as np\n",
    "import fuzzywuzzy\n",
    "from fuzzywuzzy import process\n",
    "import chardet\n"
   ]
  },
  {
   "cell_type": "code",
   "execution_count": 2,
   "metadata": {},
   "outputs": [],
   "source": [
    "data = pd.read_csv(\"./PakistanSuicideAttacks.csv\")"
   ]
  },
  {
   "cell_type": "code",
   "execution_count": 3,
   "metadata": {},
   "outputs": [
    {
     "data": {
      "text/html": [
       "<div>\n",
       "<style scoped>\n",
       "    .dataframe tbody tr th:only-of-type {\n",
       "        vertical-align: middle;\n",
       "    }\n",
       "\n",
       "    .dataframe tbody tr th {\n",
       "        vertical-align: top;\n",
       "    }\n",
       "\n",
       "    .dataframe thead th {\n",
       "        text-align: right;\n",
       "    }\n",
       "</style>\n",
       "<table border=\"1\" class=\"dataframe\">\n",
       "  <thead>\n",
       "    <tr style=\"text-align: right;\">\n",
       "      <th></th>\n",
       "      <th>S#</th>\n",
       "      <th>Date</th>\n",
       "      <th>Islamic Date</th>\n",
       "      <th>Blast Day Type</th>\n",
       "      <th>Holiday Type</th>\n",
       "      <th>Time</th>\n",
       "      <th>City</th>\n",
       "      <th>Latitude</th>\n",
       "      <th>Longitude</th>\n",
       "      <th>Province</th>\n",
       "      <th>...</th>\n",
       "      <th>Targeted Sect if any</th>\n",
       "      <th>Killed Min</th>\n",
       "      <th>Killed Max</th>\n",
       "      <th>Injured Min</th>\n",
       "      <th>Injured Max</th>\n",
       "      <th>No. of Suicide Blasts</th>\n",
       "      <th>Explosive Weight (max)</th>\n",
       "      <th>Hospital Names</th>\n",
       "      <th>Temperature(C)</th>\n",
       "      <th>Temperature(F)</th>\n",
       "    </tr>\n",
       "  </thead>\n",
       "  <tbody>\n",
       "    <tr>\n",
       "      <th>0</th>\n",
       "      <td>1</td>\n",
       "      <td>Sunday-November 19-1995</td>\n",
       "      <td>25 Jumaada al-THaany 1416 A.H</td>\n",
       "      <td>Holiday</td>\n",
       "      <td>Weekend</td>\n",
       "      <td>NaN</td>\n",
       "      <td>Islamabad</td>\n",
       "      <td>33.7180</td>\n",
       "      <td>73.0718</td>\n",
       "      <td>Capital</td>\n",
       "      <td>...</td>\n",
       "      <td>None</td>\n",
       "      <td>14.0</td>\n",
       "      <td>15.0</td>\n",
       "      <td>NaN</td>\n",
       "      <td>60</td>\n",
       "      <td>2.0</td>\n",
       "      <td>NaN</td>\n",
       "      <td>NaN</td>\n",
       "      <td>15.835</td>\n",
       "      <td>60.503</td>\n",
       "    </tr>\n",
       "    <tr>\n",
       "      <th>1</th>\n",
       "      <td>2</td>\n",
       "      <td>Monday-November 6-2000</td>\n",
       "      <td>10 SHa`baan 1421 A.H</td>\n",
       "      <td>Working Day</td>\n",
       "      <td>NaN</td>\n",
       "      <td>NaN</td>\n",
       "      <td>Karachi</td>\n",
       "      <td>24.9918</td>\n",
       "      <td>66.9911</td>\n",
       "      <td>Sindh</td>\n",
       "      <td>...</td>\n",
       "      <td>None</td>\n",
       "      <td>NaN</td>\n",
       "      <td>3.0</td>\n",
       "      <td>NaN</td>\n",
       "      <td>3</td>\n",
       "      <td>1.0</td>\n",
       "      <td>NaN</td>\n",
       "      <td>NaN</td>\n",
       "      <td>23.770</td>\n",
       "      <td>74.786</td>\n",
       "    </tr>\n",
       "    <tr>\n",
       "      <th>2</th>\n",
       "      <td>3</td>\n",
       "      <td>Wednesday-May 8-2002</td>\n",
       "      <td>25 safar 1423 A.H</td>\n",
       "      <td>Working Day</td>\n",
       "      <td>NaN</td>\n",
       "      <td>7:45 AM</td>\n",
       "      <td>Karachi</td>\n",
       "      <td>24.9918</td>\n",
       "      <td>66.9911</td>\n",
       "      <td>Sindh</td>\n",
       "      <td>...</td>\n",
       "      <td>Christian</td>\n",
       "      <td>13.0</td>\n",
       "      <td>15.0</td>\n",
       "      <td>20.0</td>\n",
       "      <td>40</td>\n",
       "      <td>1.0</td>\n",
       "      <td>2.5 Kg</td>\n",
       "      <td>1.Jinnah Postgraduate Medical Center 2. Civil ...</td>\n",
       "      <td>31.460</td>\n",
       "      <td>88.628</td>\n",
       "    </tr>\n",
       "  </tbody>\n",
       "</table>\n",
       "<p>3 rows × 26 columns</p>\n",
       "</div>"
      ],
      "text/plain": [
       "   S#                     Date                   Islamic Date Blast Day Type  \\\n",
       "0   1  Sunday-November 19-1995  25 Jumaada al-THaany 1416 A.H        Holiday   \n",
       "1   2   Monday-November 6-2000           10 SHa`baan 1421 A.H    Working Day   \n",
       "2   3     Wednesday-May 8-2002              25 safar 1423 A.H    Working Day   \n",
       "\n",
       "  Holiday Type     Time       City  Latitude Longitude Province  ...  \\\n",
       "0      Weekend      NaN  Islamabad   33.7180   73.0718  Capital  ...   \n",
       "1          NaN      NaN    Karachi   24.9918   66.9911    Sindh  ...   \n",
       "2          NaN  7:45 AM   Karachi    24.9918   66.9911    Sindh  ...   \n",
       "\n",
       "  Targeted Sect if any Killed Min Killed Max Injured Min Injured Max  \\\n",
       "0                 None       14.0       15.0         NaN          60   \n",
       "1                 None        NaN        3.0         NaN           3   \n",
       "2            Christian       13.0       15.0        20.0          40   \n",
       "\n",
       "  No. of Suicide Blasts Explosive Weight (max)  \\\n",
       "0                   2.0                    NaN   \n",
       "1                   1.0                    NaN   \n",
       "2                   1.0                 2.5 Kg   \n",
       "\n",
       "                                      Hospital Names  Temperature(C)  \\\n",
       "0                                                NaN          15.835   \n",
       "1                                                NaN          23.770   \n",
       "2  1.Jinnah Postgraduate Medical Center 2. Civil ...          31.460   \n",
       "\n",
       "   Temperature(F)  \n",
       "0          60.503  \n",
       "1          74.786  \n",
       "2          88.628  \n",
       "\n",
       "[3 rows x 26 columns]"
      ]
     },
     "execution_count": 3,
     "metadata": {},
     "output_type": "execute_result"
    }
   ],
   "source": [
    "data.head(3)"
   ]
  },
  {
   "cell_type": "code",
   "execution_count": 4,
   "metadata": {},
   "outputs": [
    {
     "data": {
      "text/plain": [
       "Index(['S#', 'Date', 'Islamic Date', 'Blast Day Type', 'Holiday Type', 'Time',\n",
       "       'City', 'Latitude', 'Longitude', 'Province', 'Location',\n",
       "       'Location Category', 'Location Sensitivity', 'Open/Closed Space',\n",
       "       'Influencing Event/Event', 'Target Type', 'Targeted Sect if any',\n",
       "       'Killed Min', 'Killed Max', 'Injured Min', 'Injured Max',\n",
       "       'No. of Suicide Blasts', 'Explosive Weight (max)', 'Hospital Names',\n",
       "       'Temperature(C)', 'Temperature(F)'],\n",
       "      dtype='object')"
      ]
     },
     "execution_count": 4,
     "metadata": {},
     "output_type": "execute_result"
    }
   ],
   "source": [
    "data.columns"
   ]
  },
  {
   "cell_type": "markdown",
   "metadata": {},
   "source": [
    "#### Take a look at the \"City\" column"
   ]
  },
  {
   "cell_type": "code",
   "execution_count": 5,
   "metadata": {},
   "outputs": [
    {
     "data": {
      "text/plain": [
       "array(['Islamabad', 'Karachi', 'Karachi ', 'Quetta', 'Rawalpindi',\n",
       "       'North waziristan', 'Kohat', 'Attock ', 'Sialkot', 'Lahore ',\n",
       "       'Swat', 'Hangu', 'Bannu', 'North Waziristan', 'Lasbela',\n",
       "       'Malakand ', 'Peshawar', 'Peshawar ', 'D.I Khan ', 'Lakki Marwat',\n",
       "       'Tank', 'Islamabad ', 'Quetta ', 'Gujrat', 'Charsadda', 'Tank ',\n",
       "       'Swat ', 'D.I Khan', 'Kohat ', 'Kuram Agency ', 'Shangla ',\n",
       "       'Bajaur Agency', 'South Waziristan', 'Haripur', 'bannu',\n",
       "       'karachi ', 'Sargodha', 'Nowshehra', 'Charsadda ',\n",
       "       'Mohmand agency', 'Dara Adam Khel', 'Khyber Agency', 'Mardan',\n",
       "       'Bhakkar ', 'Orakzai Agency', 'Mohmand Agency', 'Buner',\n",
       "       'D.G Khan ', 'Pishin', 'Chakwal ', 'Lahore', 'Upper Dir',\n",
       "       'Muzaffarabad', 'swat', 'Totalai', 'Multan', 'D.G Khan',\n",
       "       'Lower Dir', 'Lakki marwat', 'Sudhanoti', 'Khyber Agency ',\n",
       "       'peshawar', 'Poonch', 'Mansehra', 'Karak', 'Mohmand Agency ',\n",
       "       'South waziristan', 'lakki marwat', 'Swabi ', 'Dara Adam khel',\n",
       "       'karachi', 'Shikarpur', 'Sukkur', 'Chaman', 'D. I Khan',\n",
       "       'Khanewal', 'Fateh Jang', 'Taftan', 'Tirah Valley', 'Wagah',\n",
       "       'Zhob', 'KURRAM AGENCY', 'ATTOCK', 'MULTAN', 'Taunsa', 'Jacobabad',\n",
       "       'Shabqadar-Charsadda', 'Khuzdar', 'Ghallanai, Mohmand Agency ',\n",
       "       'Hayatabad', 'Mosal Kor, Mohmand Agency', 'Sehwan town',\n",
       "       'Tangi, Charsadda District'], dtype=object)"
      ]
     },
     "execution_count": 5,
     "metadata": {},
     "output_type": "execute_result"
    }
   ],
   "source": [
    "data.City.unique()"
   ]
  },
  {
   "cell_type": "markdown",
   "metadata": {},
   "source": [
    "### You would see some inconsistent entries at :\n",
    "\n",
    "- 'Karachi'  and  'Karachi '  (excess space)\n",
    "-  'Swat '   and  'swat'   (upper and lower case problem)\n",
    "and more .."
   ]
  },
  {
   "cell_type": "code",
   "execution_count": 6,
   "metadata": {},
   "outputs": [],
   "source": [
    "# convert to lower case\n",
    "data['City'] = data['City'].str.lower()\n",
    "# remove trailing white spaces\n",
    "data['City'] = data['City'].str.strip()"
   ]
  },
  {
   "cell_type": "code",
   "execution_count": 7,
   "metadata": {},
   "outputs": [
    {
     "data": {
      "text/plain": [
       "array(['islamabad', 'karachi', 'quetta', 'rawalpindi', 'north waziristan',\n",
       "       'kohat', 'attock', 'sialkot', 'lahore', 'swat', 'hangu', 'bannu',\n",
       "       'lasbela', 'malakand', 'peshawar', 'd.i khan', 'lakki marwat',\n",
       "       'tank', 'gujrat', 'charsadda', 'kuram agency', 'shangla',\n",
       "       'bajaur agency', 'south waziristan', 'haripur', 'sargodha',\n",
       "       'nowshehra', 'mohmand agency', 'dara adam khel', 'khyber agency',\n",
       "       'mardan', 'bhakkar', 'orakzai agency', 'buner', 'd.g khan',\n",
       "       'pishin', 'chakwal', 'upper dir', 'muzaffarabad', 'totalai',\n",
       "       'multan', 'lower dir', 'sudhanoti', 'poonch', 'mansehra', 'karak',\n",
       "       'swabi', 'shikarpur', 'sukkur', 'chaman', 'd. i khan', 'khanewal',\n",
       "       'fateh jang', 'taftan', 'tirah valley', 'wagah', 'zhob',\n",
       "       'kurram agency', 'taunsa', 'jacobabad', 'shabqadar-charsadda',\n",
       "       'khuzdar', 'ghallanai, mohmand agency', 'hayatabad',\n",
       "       'mosal kor, mohmand agency', 'sehwan town',\n",
       "       'tangi, charsadda district'], dtype=object)"
      ]
     },
     "execution_count": 7,
     "metadata": {},
     "output_type": "execute_result"
    }
   ],
   "source": [
    "data[\"City\"].unique()"
   ]
  },
  {
   "cell_type": "markdown",
   "metadata": {},
   "source": [
    "####  More difficult inconsistencies :\n",
    " - 'mosal kor, mohmand agency'   and    'mohmand agency'\n",
    "  \n",
    "### Let's use fuzzywuzzy to find out which strings are closet to each other !\n",
    "Fuzzy matching: The process of automatically finding text strings that are very similar to the target string, The closer the ratio is to 100, the smaller the edit distance between the two strings.\n"
   ]
  },
  {
   "cell_type": "code",
   "execution_count": 8,
   "metadata": {},
   "outputs": [
    {
     "name": "stdout",
     "output_type": "stream",
     "text": [
      "Matches for :  islamabad\n"
     ]
    },
    {
     "data": {
      "text/plain": [
       "[('islamabad', 100),\n",
       " ('jacobabad', 56),\n",
       " ('hayatabad', 56),\n",
       " ('lakki marwat', 48),\n",
       " ('muzaffarabad', 48),\n",
       " ('malakand', 47),\n",
       " ('swabi', 43),\n",
       " ('shabqadar-charsadda', 43),\n",
       " ('mardan', 40),\n",
       " ('chaman', 40)]"
      ]
     },
     "execution_count": 8,
     "metadata": {},
     "output_type": "execute_result"
    }
   ],
   "source": [
    "cities = data.City.unique()\n",
    "print(\"Matches for : \", cities[0])\n",
    "matches = fuzzywuzzy.process.extract('islamabad', cities, limit=10, scorer=fuzzywuzzy.fuzz.token_sort_ratio)\n",
    "matches"
   ]
  },
  {
   "cell_type": "markdown",
   "metadata": {},
   "source": [
    "seems like 'islamabad' is good , no similar matches from the human point of view \n",
    "\n",
    "- Let's check other city name \n"
   ]
  },
  {
   "cell_type": "code",
   "execution_count": 9,
   "metadata": {},
   "outputs": [
    {
     "data": {
      "text/plain": [
       "[('mohmand agency', 100),\n",
       " ('ghallanai, mohmand agency', 74),\n",
       " ('mosal kor, mohmand agency', 74),\n",
       " ('orakzai agency', 64),\n",
       " ('kuram agency', 62),\n",
       " ('bajaur agency', 59),\n",
       " ('khyber agency', 59),\n",
       " ('kurram agency', 59),\n",
       " ('sargodha', 45),\n",
       " ('d.g khan', 45)]"
      ]
     },
     "execution_count": 9,
     "metadata": {},
     "output_type": "execute_result"
    }
   ],
   "source": [
    "matches = fuzzywuzzy.process.extract('mohmand agency', cities, limit=10, scorer=fuzzywuzzy.fuzz.token_sort_ratio)\n",
    "matches"
   ]
  },
  {
   "cell_type": "markdown",
   "metadata": {},
   "source": [
    "Matches > 70 should be replaced 👍"
   ]
  },
  {
   "cell_type": "code",
   "execution_count": 10,
   "metadata": {},
   "outputs": [],
   "source": [
    "# we will write a function to replace them\n",
    "\n",
    "def replace_matches_in_column(df, column, string_to_match, min_ratio = 70):\n",
    "    strings = df[column].unique() # unique names    \n",
    "    # get the top 10 closest matches to our input string\n",
    "    matches = fuzzywuzzy.process.extract(string_to_match, strings,limit=10, scorer=fuzzywuzzy.fuzz.token_sort_ratio)\n",
    "    close_matches = [matches[0] for matches in matches if matches[1] >= min_ratio] # only get matches with a ratio > 70\n",
    "    print(\"Close Match \" , close_matches)\n",
    "    # get the rows of all the close matches in our dataframe\n",
    "    rows_with_matches = df[column].isin(close_matches)\n",
    "    # replace all rows with close matches with the input matches \n",
    "    df.loc[rows_with_matches, column] = string_to_match\n",
    "    \n",
    "    # let us know the function's done\n",
    "    print(\"All done!\")"
   ]
  },
  {
   "cell_type": "code",
   "execution_count": 11,
   "metadata": {},
   "outputs": [
    {
     "name": "stdout",
     "output_type": "stream",
     "text": [
      "Close Match  ['mohmand agency', 'ghallanai, mohmand agency', 'mosal kor, mohmand agency']\n",
      "All done!\n"
     ]
    }
   ],
   "source": [
    "replace_matches_in_column(df=data, column='City', string_to_match=\"mohmand agency\")\n"
   ]
  },
  {
   "cell_type": "code",
   "execution_count": 12,
   "metadata": {},
   "outputs": [
    {
     "data": {
      "text/plain": [
       "array(['islamabad', 'karachi', 'quetta', 'rawalpindi', 'north waziristan',\n",
       "       'kohat', 'attock', 'sialkot', 'lahore', 'swat', 'hangu', 'bannu',\n",
       "       'lasbela', 'malakand', 'peshawar', 'd.i khan', 'lakki marwat',\n",
       "       'tank', 'gujrat', 'charsadda', 'kuram agency', 'shangla',\n",
       "       'bajaur agency', 'south waziristan', 'haripur', 'sargodha',\n",
       "       'nowshehra', 'mohmand agency', 'dara adam khel', 'khyber agency',\n",
       "       'mardan', 'bhakkar', 'orakzai agency', 'buner', 'd.g khan',\n",
       "       'pishin', 'chakwal', 'upper dir', 'muzaffarabad', 'totalai',\n",
       "       'multan', 'lower dir', 'sudhanoti', 'poonch', 'mansehra', 'karak',\n",
       "       'swabi', 'shikarpur', 'sukkur', 'chaman', 'd. i khan', 'khanewal',\n",
       "       'fateh jang', 'taftan', 'tirah valley', 'wagah', 'zhob',\n",
       "       'kurram agency', 'taunsa', 'jacobabad', 'shabqadar-charsadda',\n",
       "       'khuzdar', 'hayatabad', 'sehwan town', 'tangi, charsadda district'],\n",
       "      dtype=object)"
      ]
     },
     "execution_count": 12,
     "metadata": {},
     "output_type": "execute_result"
    }
   ],
   "source": [
    "data.City.unique()"
   ]
  },
  {
   "cell_type": "code",
   "execution_count": 13,
   "metadata": {},
   "outputs": [
    {
     "data": {
      "text/plain": [
       "[('mohmand agency', 100),\n",
       " ('orakzai agency', 64),\n",
       " ('kuram agency', 62),\n",
       " ('bajaur agency', 59),\n",
       " ('khyber agency', 59),\n",
       " ('kurram agency', 59),\n",
       " ('sargodha', 45),\n",
       " ('d.g khan', 45),\n",
       " ('jacobabad', 43),\n",
       " ('fateh jang', 42)]"
      ]
     },
     "execution_count": 13,
     "metadata": {},
     "output_type": "execute_result"
    }
   ],
   "source": [
    "matches = fuzzywuzzy.process.extract('mohmand agency', data['City'].unique(),limit=10, scorer=fuzzywuzzy.fuzz.token_sort_ratio)\n",
    "matches  #only one specific match for 'mohamed agency'"
   ]
  },
  {
   "cell_type": "markdown",
   "metadata": {},
   "source": [
    "## All correct and our list is clean !"
   ]
  }
 ],
 "metadata": {
  "interpreter": {
   "hash": "45c3c1e1b15103d10a90e1b499e74925420231a878c8e23b5caccb77c48eac59"
  },
  "kernelspec": {
   "display_name": "Python 3.9.0 64-bit",
   "language": "python",
   "name": "python3"
  },
  "language_info": {
   "codemirror_mode": {
    "name": "ipython",
    "version": 3
   },
   "file_extension": ".py",
   "mimetype": "text/x-python",
   "name": "python",
   "nbconvert_exporter": "python",
   "pygments_lexer": "ipython3",
   "version": "3.9.0"
  },
  "orig_nbformat": 4
 },
 "nbformat": 4,
 "nbformat_minor": 2
}
